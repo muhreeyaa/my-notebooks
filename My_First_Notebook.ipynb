{
  "nbformat": 4,
  "nbformat_minor": 0,
  "metadata": {
    "colab": {
      "name": "My First Notebook",
      "provenance": [],
      "authorship_tag": "ABX9TyOxycYD+dtbK/sl67jR7Vxc",
      "include_colab_link": true
    },
    "kernelspec": {
      "name": "python3",
      "display_name": "Python 3"
    },
    "language_info": {
      "name": "python"
    }
  },
  "cells": [
    {
      "cell_type": "markdown",
      "metadata": {
        "id": "view-in-github",
        "colab_type": "text"
      },
      "source": [
        "<a href=\"https://colab.research.google.com/github/muhreeyaa/my-notebooks/blob/main/My_First_Notebook.ipynb\" target=\"_parent\"><img src=\"https://colab.research.google.com/assets/colab-badge.svg\" alt=\"Open In Colab\"/></a>"
      ]
    },
    {
      "cell_type": "code",
      "source": [
        ""
      ],
      "metadata": {
        "id": "6cdzgJqvwjQd"
      },
      "execution_count": null,
      "outputs": []
    },
    {
      "cell_type": "markdown",
      "source": [
        ""
      ],
      "metadata": {
        "id": "1iAY4s2EwgyT"
      }
    },
    {
      "cell_type": "markdown",
      "source": [
        "This some text\n",
        "\n",
        "we can write any language (like english)"
      ],
      "metadata": {
        "id": "7Sj81RAzwl9o"
      }
    },
    {
      "cell_type": "markdown",
      "source": [
        "# My Heading\n",
        "\n",
        "writing normal sentences.\n",
        "\n",
        "## Heading Level 2 \n",
        "\n",
        "here is a list:\n",
        "+ item 1 \n",
        "+ item 2 \n",
        "+ item 3\n",
        "\n",
        "numbered list:\n",
        "1. item 1\n",
        "2. item 2\n",
        "3. item 3\n",
        "\n",
        "this is a link: [link name](http://www.google.com/)\n",
        "\n",
        "this ia code block (we'll use in README files)\n",
        "```\n",
        "print(\"HELLO\")\n",
        "```\n",
        "---\n",
        "\n"
      ],
      "metadata": {
        "id": "3Fbx0-0JxUzo"
      }
    },
    {
      "cell_type": "code",
      "source": [
        "# This is some example Python code\n",
        "# These lines starting with \"#\" are \"comments\"\n",
        "# Remember \"#\" means something different in Markdown than it does in Python\n",
        "\n",
        "print(\"HELLO WORLD!\")\n",
        "\n",
        "x = 2 + 2\n",
        "print(x)"
      ],
      "metadata": {
        "colab": {
          "base_uri": "https://localhost:8080/"
        },
        "id": "rX1Qwui3xu5c",
        "outputId": "4311a06e-f73c-4e67-f07c-ede546274b73"
      },
      "execution_count": 1,
      "outputs": [
        {
          "output_type": "stream",
          "name": "stdout",
          "text": [
            "HELLO WORLD!\n",
            "4\n"
          ]
        }
      ]
    }
  ]
}